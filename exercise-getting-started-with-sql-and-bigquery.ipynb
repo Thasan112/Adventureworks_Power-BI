{
 "cells": [
  {
   "cell_type": "markdown",
   "id": "41e84c8a",
   "metadata": {
    "papermill": {
     "duration": 0.004838,
     "end_time": "2024-11-28T17:23:55.036680",
     "exception": false,
     "start_time": "2024-11-28T17:23:55.031842",
     "status": "completed"
    },
    "tags": []
   },
   "source": [
    "**This notebook is an exercise in the [SQL](https://www.kaggle.com/learn/intro-to-sql) course.  You can reference the tutorial at [this link](https://www.kaggle.com/dansbecker/getting-started-with-sql-and-bigquery).**\n",
    "\n",
    "---\n"
   ]
  },
  {
   "cell_type": "markdown",
   "id": "64072eb1",
   "metadata": {
    "papermill": {
     "duration": 0.003849,
     "end_time": "2024-11-28T17:23:55.044780",
     "exception": false,
     "start_time": "2024-11-28T17:23:55.040931",
     "status": "completed"
    },
    "tags": []
   },
   "source": [
    "# Introduction\n",
    "\n",
    "The first test of your new data exploration skills uses data describing crime in the city of Chicago.\n",
    "\n",
    "Before you get started, run the following cell. It sets up the automated feedback system to review your answers."
   ]
  },
  {
   "cell_type": "code",
   "execution_count": 1,
   "id": "c45aa47a",
   "metadata": {
    "execution": {
     "iopub.execute_input": "2024-11-28T17:23:55.054421Z",
     "iopub.status.busy": "2024-11-28T17:23:55.054042Z",
     "iopub.status.idle": "2024-11-28T17:24:01.629374Z",
     "shell.execute_reply": "2024-11-28T17:24:01.628230Z"
    },
    "papermill": {
     "duration": 6.582702,
     "end_time": "2024-11-28T17:24:01.631526",
     "exception": false,
     "start_time": "2024-11-28T17:23:55.048824",
     "status": "completed"
    },
    "tags": []
   },
   "outputs": [
    {
     "name": "stdout",
     "output_type": "stream",
     "text": [
      "Using Kaggle's public dataset BigQuery integration.\n",
      "Setup Complete\n"
     ]
    }
   ],
   "source": [
    "# Set up feedack system\n",
    "from learntools.core import binder\n",
    "binder.bind(globals())\n",
    "from learntools.sql.ex1 import *\n",
    "print(\"Setup Complete\")"
   ]
  },
  {
   "cell_type": "markdown",
   "id": "a7073d47",
   "metadata": {
    "papermill": {
     "duration": 0.004766,
     "end_time": "2024-11-28T17:24:01.641547",
     "exception": false,
     "start_time": "2024-11-28T17:24:01.636781",
     "status": "completed"
    },
    "tags": []
   },
   "source": [
    "Use the next code cell to fetch the dataset."
   ]
  },
  {
   "cell_type": "code",
   "execution_count": 2,
   "id": "ee12f992",
   "metadata": {
    "execution": {
     "iopub.execute_input": "2024-11-28T17:24:01.652820Z",
     "iopub.status.busy": "2024-11-28T17:24:01.651896Z",
     "iopub.status.idle": "2024-11-28T17:24:02.125735Z",
     "shell.execute_reply": "2024-11-28T17:24:02.124773Z"
    },
    "papermill": {
     "duration": 0.481791,
     "end_time": "2024-11-28T17:24:02.128045",
     "exception": false,
     "start_time": "2024-11-28T17:24:01.646254",
     "status": "completed"
    },
    "tags": []
   },
   "outputs": [
    {
     "name": "stdout",
     "output_type": "stream",
     "text": [
      "Using Kaggle's public dataset BigQuery integration.\n"
     ]
    }
   ],
   "source": [
    "from google.cloud import bigquery\n",
    "\n",
    "# Create a \"Client\" object\n",
    "client = bigquery.Client()\n",
    "\n",
    "# Construct a reference to the \"chicago_crime\" dataset\n",
    "dataset_ref = client.dataset(\"chicago_crime\", project=\"bigquery-public-data\")\n",
    "\n",
    "# API request - fetch the dataset\n",
    "dataset = client.get_dataset(dataset_ref)"
   ]
  },
  {
   "cell_type": "markdown",
   "id": "ca74b2aa",
   "metadata": {
    "papermill": {
     "duration": 0.004026,
     "end_time": "2024-11-28T17:24:02.136592",
     "exception": false,
     "start_time": "2024-11-28T17:24:02.132566",
     "status": "completed"
    },
    "tags": []
   },
   "source": [
    "# Exercises\n",
    "\n",
    "### 1) Count tables in the dataset\n",
    "\n",
    "How many tables are in the Chicago Crime dataset?"
   ]
  },
  {
   "cell_type": "code",
   "execution_count": 3,
   "id": "de19f749",
   "metadata": {
    "execution": {
     "iopub.execute_input": "2024-11-28T17:24:02.147486Z",
     "iopub.status.busy": "2024-11-28T17:24:02.147156Z",
     "iopub.status.idle": "2024-11-28T17:24:02.543577Z",
     "shell.execute_reply": "2024-11-28T17:24:02.542275Z"
    },
    "papermill": {
     "duration": 0.404159,
     "end_time": "2024-11-28T17:24:02.545923",
     "exception": false,
     "start_time": "2024-11-28T17:24:02.141764",
     "status": "completed"
    },
    "tags": []
   },
   "outputs": [
    {
     "name": "stdout",
     "output_type": "stream",
     "text": [
      "crime\n"
     ]
    }
   ],
   "source": [
    "tables = list(client.list_tables(dataset))\n",
    "for table in tables:\n",
    "    print(table.table_id)"
   ]
  },
  {
   "cell_type": "code",
   "execution_count": 4,
   "id": "b0c645bd",
   "metadata": {
    "execution": {
     "iopub.execute_input": "2024-11-28T17:24:02.560033Z",
     "iopub.status.busy": "2024-11-28T17:24:02.559668Z",
     "iopub.status.idle": "2024-11-28T17:24:03.462833Z",
     "shell.execute_reply": "2024-11-28T17:24:03.461787Z"
    },
    "papermill": {
     "duration": 0.911514,
     "end_time": "2024-11-28T17:24:03.464917",
     "exception": false,
     "start_time": "2024-11-28T17:24:02.553403",
     "status": "completed"
    },
    "tags": []
   },
   "outputs": [
    {
     "name": "stdout",
     "output_type": "stream",
     "text": [
      "crime\n"
     ]
    }
   ],
   "source": [
    "# Write the code you need here to figure out the answer\n",
    "tables = list(client.list_tables(dataset))\n",
    "for table in tables:\n",
    "    print(table.table_id)"
   ]
  },
  {
   "cell_type": "code",
   "execution_count": 5,
   "id": "4ee67e5f",
   "metadata": {
    "execution": {
     "iopub.execute_input": "2024-11-28T17:24:03.478897Z",
     "iopub.status.busy": "2024-11-28T17:24:03.477760Z",
     "iopub.status.idle": "2024-11-28T17:24:03.488756Z",
     "shell.execute_reply": "2024-11-28T17:24:03.487595Z"
    },
    "papermill": {
     "duration": 0.021548,
     "end_time": "2024-11-28T17:24:03.490918",
     "exception": false,
     "start_time": "2024-11-28T17:24:03.469370",
     "status": "completed"
    },
    "tags": []
   },
   "outputs": [
    {
     "data": {
      "application/javascript": [
       "parent.postMessage({\"jupyterEvent\": \"custom.exercise_interaction\", \"data\": {\"outcomeType\": 1, \"valueTowardsCompletion\": 0.3333333333333333, \"interactionType\": 1, \"questionType\": 1, \"questionId\": \"1_CountTables\", \"learnToolsVersion\": \"0.3.4\", \"failureMessage\": \"\", \"exceptionClass\": \"\", \"trace\": \"\"}}, \"*\")"
      ],
      "text/plain": [
       "<IPython.core.display.Javascript object>"
      ]
     },
     "metadata": {},
     "output_type": "display_data"
    },
    {
     "data": {
      "text/markdown": [
       "<span style=\"color:#33cc33\">Correct</span>"
      ],
      "text/plain": [
       "Correct"
      ]
     },
     "metadata": {},
     "output_type": "display_data"
    }
   ],
   "source": [
    "num_tables = 1  # Store the answer as num_tables and then run this cell\n",
    "\n",
    "# Check your answer\n",
    "q_1.check()"
   ]
  },
  {
   "cell_type": "markdown",
   "id": "d1d62795",
   "metadata": {
    "papermill": {
     "duration": 0.004305,
     "end_time": "2024-11-28T17:24:03.500177",
     "exception": false,
     "start_time": "2024-11-28T17:24:03.495872",
     "status": "completed"
    },
    "tags": []
   },
   "source": [
    "For a hint or the solution, uncomment the appropriate line below."
   ]
  },
  {
   "cell_type": "code",
   "execution_count": 6,
   "id": "dd59db55",
   "metadata": {
    "execution": {
     "iopub.execute_input": "2024-11-28T17:24:03.513449Z",
     "iopub.status.busy": "2024-11-28T17:24:03.512754Z",
     "iopub.status.idle": "2024-11-28T17:24:03.517121Z",
     "shell.execute_reply": "2024-11-28T17:24:03.516165Z"
    },
    "papermill": {
     "duration": 0.014,
     "end_time": "2024-11-28T17:24:03.519188",
     "exception": false,
     "start_time": "2024-11-28T17:24:03.505188",
     "status": "completed"
    },
    "tags": []
   },
   "outputs": [],
   "source": [
    "#q_1.hint()\n",
    "#q_1.solution()"
   ]
  },
  {
   "cell_type": "markdown",
   "id": "f5732230",
   "metadata": {
    "papermill": {
     "duration": 0.004408,
     "end_time": "2024-11-28T17:24:03.528377",
     "exception": false,
     "start_time": "2024-11-28T17:24:03.523969",
     "status": "completed"
    },
    "tags": []
   },
   "source": [
    "### 2) Explore the table schema\n",
    "\n",
    "How many columns in the `crime` table have `TIMESTAMP` data?"
   ]
  },
  {
   "cell_type": "code",
   "execution_count": 7,
   "id": "58a87128",
   "metadata": {
    "execution": {
     "iopub.execute_input": "2024-11-28T17:24:03.539896Z",
     "iopub.status.busy": "2024-11-28T17:24:03.538917Z",
     "iopub.status.idle": "2024-11-28T17:24:04.512352Z",
     "shell.execute_reply": "2024-11-28T17:24:04.511383Z"
    },
    "papermill": {
     "duration": 0.981231,
     "end_time": "2024-11-28T17:24:04.514280",
     "exception": false,
     "start_time": "2024-11-28T17:24:03.533049",
     "status": "completed"
    },
    "tags": []
   },
   "outputs": [
    {
     "name": "stdout",
     "output_type": "stream",
     "text": [
      "[SchemaField('unique_key', 'INTEGER', 'REQUIRED', None, (), None), SchemaField('case_number', 'STRING', 'NULLABLE', None, (), None), SchemaField('date', 'TIMESTAMP', 'NULLABLE', None, (), None), SchemaField('block', 'STRING', 'NULLABLE', None, (), None), SchemaField('iucr', 'STRING', 'NULLABLE', None, (), None), SchemaField('primary_type', 'STRING', 'NULLABLE', None, (), None), SchemaField('description', 'STRING', 'NULLABLE', None, (), None), SchemaField('location_description', 'STRING', 'NULLABLE', None, (), None), SchemaField('arrest', 'BOOLEAN', 'NULLABLE', None, (), None), SchemaField('domestic', 'BOOLEAN', 'NULLABLE', None, (), None), SchemaField('beat', 'INTEGER', 'NULLABLE', None, (), None), SchemaField('district', 'INTEGER', 'NULLABLE', None, (), None), SchemaField('ward', 'INTEGER', 'NULLABLE', None, (), None), SchemaField('community_area', 'INTEGER', 'NULLABLE', None, (), None), SchemaField('fbi_code', 'STRING', 'NULLABLE', None, (), None), SchemaField('x_coordinate', 'FLOAT', 'NULLABLE', None, (), None), SchemaField('y_coordinate', 'FLOAT', 'NULLABLE', None, (), None), SchemaField('year', 'INTEGER', 'NULLABLE', None, (), None), SchemaField('updated_on', 'TIMESTAMP', 'NULLABLE', None, (), None), SchemaField('latitude', 'FLOAT', 'NULLABLE', None, (), None), SchemaField('longitude', 'FLOAT', 'NULLABLE', None, (), None), SchemaField('location', 'STRING', 'NULLABLE', None, (), None)]\n"
     ]
    }
   ],
   "source": [
    "# Write the code to figure out the answer\n",
    "table_ref = dataset_ref.table(\"crime\")\n",
    "\n",
    "#API request\n",
    "table = client.get_table(table_ref)\n",
    "\n",
    "#Print\n",
    "print(table.schema)"
   ]
  },
  {
   "cell_type": "code",
   "execution_count": 8,
   "id": "a0b40f7b",
   "metadata": {
    "execution": {
     "iopub.execute_input": "2024-11-28T17:24:04.525902Z",
     "iopub.status.busy": "2024-11-28T17:24:04.524955Z",
     "iopub.status.idle": "2024-11-28T17:24:06.899503Z",
     "shell.execute_reply": "2024-11-28T17:24:06.898462Z"
    },
    "papermill": {
     "duration": 2.382866,
     "end_time": "2024-11-28T17:24:06.901914",
     "exception": false,
     "start_time": "2024-11-28T17:24:04.519048",
     "status": "completed"
    },
    "tags": []
   },
   "outputs": [
    {
     "name": "stdout",
     "output_type": "stream",
     "text": [
      "Using Kaggle's public dataset BigQuery integration.\n"
     ]
    }
   ],
   "source": [
    "#num_timestamp_fields = 2 # Put your answer here\n",
    "from google.cloud import bigquery\n",
    "\n",
    "# Create a \"Client\" object\n",
    "client = bigquery.Client()\n",
    "\n",
    "# Construct a reference to the \"chicago_crime\" dataset\n",
    "dataset_ref = client.dataset(\"chicago_crime\", project=\"bigquery-public-data\")\n",
    "\n",
    "# API request - fetch the dataset\n",
    "dataset = client.get_dataset(dataset_ref)\n",
    "\n",
    "# Fetch the list of tables in the dataset\n",
    "tables = list(client.list_tables(dataset))\n",
    "\n",
    "# Initialize a counter for timestamp fields\n",
    "num_timestamp_fields = 0\n",
    "\n",
    "# Iterate over each table\n",
    "for table in tables:\n",
    "    # Get the table reference\n",
    "    table_ref = dataset.table(table.table_id)\n",
    "    table_obj = client.get_table(table_ref)  # Fetch the table object\n",
    "    # Count TIMESTAMP fields in the schema\n",
    "    num_timestamp_fields += sum(1 for field in table_obj.schema if field.field_type == \"TIMESTAMP\")\n",
    "\n",
    "# Check your answer\n",
    "#q_2.check()\n",
    "\n",
    "\n"
   ]
  },
  {
   "cell_type": "markdown",
   "id": "a9a16bb3",
   "metadata": {
    "papermill": {
     "duration": 0.004826,
     "end_time": "2024-11-28T17:24:06.912177",
     "exception": false,
     "start_time": "2024-11-28T17:24:06.907351",
     "status": "completed"
    },
    "tags": []
   },
   "source": [
    "For a hint or the solution, uncomment the appropriate line below."
   ]
  },
  {
   "cell_type": "code",
   "execution_count": 9,
   "id": "c41f348d",
   "metadata": {
    "execution": {
     "iopub.execute_input": "2024-11-28T17:24:06.923297Z",
     "iopub.status.busy": "2024-11-28T17:24:06.922927Z",
     "iopub.status.idle": "2024-11-28T17:24:06.927628Z",
     "shell.execute_reply": "2024-11-28T17:24:06.926618Z"
    },
    "papermill": {
     "duration": 0.012813,
     "end_time": "2024-11-28T17:24:06.929746",
     "exception": false,
     "start_time": "2024-11-28T17:24:06.916933",
     "status": "completed"
    },
    "tags": []
   },
   "outputs": [],
   "source": [
    "\n",
    "\n",
    "num_timestamp_fields = 2"
   ]
  },
  {
   "cell_type": "markdown",
   "id": "6acedb0f",
   "metadata": {
    "papermill": {
     "duration": 0.004652,
     "end_time": "2024-11-28T17:24:06.939296",
     "exception": false,
     "start_time": "2024-11-28T17:24:06.934644",
     "status": "completed"
    },
    "tags": []
   },
   "source": [
    "**Create a Crime Map**"
   ]
  },
  {
   "cell_type": "code",
   "execution_count": 10,
   "id": "07f5416b",
   "metadata": {
    "execution": {
     "iopub.execute_input": "2024-11-28T17:24:06.950584Z",
     "iopub.status.busy": "2024-11-28T17:24:06.949885Z",
     "iopub.status.idle": "2024-11-28T17:24:06.954875Z",
     "shell.execute_reply": "2024-11-28T17:24:06.953906Z"
    },
    "papermill": {
     "duration": 0.013102,
     "end_time": "2024-11-28T17:24:06.957121",
     "exception": false,
     "start_time": "2024-11-28T17:24:06.944019",
     "status": "completed"
    },
    "tags": []
   },
   "outputs": [
    {
     "name": "stdout",
     "output_type": "stream",
     "text": [
      "['location', 'latitude', 'longitude']\n"
     ]
    }
   ],
   "source": [
    "fields_for_plotting = ['latitude', 'longitude']  # Put your answers here\n",
    "\n",
    "# Check your answer\n",
    "#q_3.check()\n",
    "\n",
    "# Scratch space for your code\n",
    "print(['location', 'latitude', 'longitude'])"
   ]
  },
  {
   "cell_type": "code",
   "execution_count": null,
   "id": "e6c1fbec",
   "metadata": {
    "papermill": {
     "duration": 0.004591,
     "end_time": "2024-11-28T17:24:06.966753",
     "exception": false,
     "start_time": "2024-11-28T17:24:06.962162",
     "status": "completed"
    },
    "tags": []
   },
   "outputs": [],
   "source": []
  },
  {
   "cell_type": "markdown",
   "id": "f72c5a19",
   "metadata": {
    "papermill": {
     "duration": 0.004552,
     "end_time": "2024-11-28T17:24:06.976512",
     "exception": false,
     "start_time": "2024-11-28T17:24:06.971960",
     "status": "completed"
    },
    "tags": []
   },
   "source": [
    "For a hint or the solution, uncomment the appropriate line below."
   ]
  },
  {
   "cell_type": "markdown",
   "id": "e293c1a1",
   "metadata": {
    "papermill": {
     "duration": 0.004627,
     "end_time": "2024-11-28T17:24:06.985900",
     "exception": false,
     "start_time": "2024-11-28T17:24:06.981273",
     "status": "completed"
    },
    "tags": []
   },
   "source": [
    "Thinking about the question above, there are a few columns that appear to have geographic data. Look at a few values (with the `list_rows()` command) to see if you can determine their relationship.  Two columns will still be hard to interpret. But it should be obvious how the `location` column relates to `latitude` and `longitude`."
   ]
  },
  {
   "cell_type": "markdown",
   "id": "3f0a1ae3",
   "metadata": {
    "papermill": {
     "duration": 0.004614,
     "end_time": "2024-11-28T17:24:06.995291",
     "exception": false,
     "start_time": "2024-11-28T17:24:06.990677",
     "status": "completed"
    },
    "tags": []
   },
   "source": [
    "# Keep going\n",
    "2\n",
    "You've looked at the schema, but you haven't yet done anything exciting with the data itself. Things get more interesting when you get to the data, so keep going to **[write your first SQL query](https://www.kaggle.com/dansbecker/select-from-where).**"
   ]
  },
  {
   "cell_type": "markdown",
   "id": "fcaab47f",
   "metadata": {
    "papermill": {
     "duration": 0.004609,
     "end_time": "2024-11-28T17:24:07.004713",
     "exception": false,
     "start_time": "2024-11-28T17:24:07.000104",
     "status": "completed"
    },
    "tags": []
   },
   "source": [
    "---\n",
    "\n",
    "\n",
    "\n",
    "\n",
    "*Have questions or comments? Visit the [course discussion forum](https://www.kaggle.com/learn/intro-to-sql/discussion) to chat with other learners.*"
   ]
  }
 ],
 "metadata": {
  "kaggle": {
   "accelerator": "none",
   "dataSources": [
    {
     "datasetId": 22090,
     "sourceId": 28376,
     "sourceType": "datasetVersion"
    },
    {
     "datasetId": 6057,
     "sourceId": 285982,
     "sourceType": "datasetVersion"
    }
   ],
   "isGpuEnabled": false,
   "isInternetEnabled": false,
   "language": "python",
   "sourceType": "notebook"
  },
  "kernelspec": {
   "display_name": "Python 3",
   "language": "python",
   "name": "python3"
  },
  "language_info": {
   "codemirror_mode": {
    "name": "ipython",
    "version": 3
   },
   "file_extension": ".py",
   "mimetype": "text/x-python",
   "name": "python",
   "nbconvert_exporter": "python",
   "pygments_lexer": "ipython3",
   "version": "3.10.14"
  },
  "papermill": {
   "default_parameters": {},
   "duration": 15.214763,
   "end_time": "2024-11-28T17:24:07.730933",
   "environment_variables": {},
   "exception": null,
   "input_path": "__notebook__.ipynb",
   "output_path": "__notebook__.ipynb",
   "parameters": {},
   "start_time": "2024-11-28T17:23:52.516170",
   "version": "2.6.0"
  }
 },
 "nbformat": 4,
 "nbformat_minor": 5
}
