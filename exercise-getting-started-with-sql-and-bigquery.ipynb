{
 "cells": [
  {
   "cell_type": "markdown",
   "id": "83a02b70",
   "metadata": {
    "papermill": {
     "duration": 0.005023,
     "end_time": "2024-11-28T17:56:45.473866",
     "exception": false,
     "start_time": "2024-11-28T17:56:45.468843",
     "status": "completed"
    },
    "tags": []
   },
   "source": [
    "**This notebook is an exercise in the [SQL](https://www.kaggle.com/learn/intro-to-sql) course.  You can reference the tutorial at [this link](https://www.kaggle.com/dansbecker/getting-started-with-sql-and-bigquery).**\n",
    "\n",
    "---\n"
   ]
  },
  {
   "cell_type": "markdown",
   "id": "eb5d27ad",
   "metadata": {
    "papermill": {
     "duration": 0.004134,
     "end_time": "2024-11-28T17:56:45.482547",
     "exception": false,
     "start_time": "2024-11-28T17:56:45.478413",
     "status": "completed"
    },
    "tags": []
   },
   "source": [
    "# Introduction\n",
    "\n",
    "The first test of your new data exploration skills uses data describing crime in the city of Chicago.\n",
    "\n",
    "Before you get started, run the following cell. It sets up the automated feedback system to review your answers."
   ]
  },
  {
   "cell_type": "code",
   "execution_count": 1,
   "id": "c9327356",
   "metadata": {
    "execution": {
     "iopub.execute_input": "2024-11-28T17:56:45.493177Z",
     "iopub.status.busy": "2024-11-28T17:56:45.492677Z",
     "iopub.status.idle": "2024-11-28T17:56:50.841021Z",
     "shell.execute_reply": "2024-11-28T17:56:50.839888Z"
    },
    "papermill": {
     "duration": 5.35654,
     "end_time": "2024-11-28T17:56:50.843440",
     "exception": false,
     "start_time": "2024-11-28T17:56:45.486900",
     "status": "completed"
    },
    "tags": []
   },
   "outputs": [
    {
     "name": "stdout",
     "output_type": "stream",
     "text": [
      "Using Kaggle's public dataset BigQuery integration.\n",
      "Setup Complete\n"
     ]
    }
   ],
   "source": [
    "# Set up feedack system\n",
    "from learntools.core import binder\n",
    "binder.bind(globals())\n",
    "from learntools.sql.ex1 import *\n",
    "print(\"Setup Complete\")"
   ]
  },
  {
   "cell_type": "markdown",
   "id": "c8b358c2",
   "metadata": {
    "papermill": {
     "duration": 0.004654,
     "end_time": "2024-11-28T17:56:50.853453",
     "exception": false,
     "start_time": "2024-11-28T17:56:50.848799",
     "status": "completed"
    },
    "tags": []
   },
   "source": [
    "Use the next code cell to fetch the dataset."
   ]
  },
  {
   "cell_type": "code",
   "execution_count": 2,
   "id": "0ec5be09",
   "metadata": {
    "execution": {
     "iopub.execute_input": "2024-11-28T17:56:50.864551Z",
     "iopub.status.busy": "2024-11-28T17:56:50.863498Z",
     "iopub.status.idle": "2024-11-28T17:56:51.140875Z",
     "shell.execute_reply": "2024-11-28T17:56:51.139578Z"
    },
    "papermill": {
     "duration": 0.286309,
     "end_time": "2024-11-28T17:56:51.144117",
     "exception": false,
     "start_time": "2024-11-28T17:56:50.857808",
     "status": "completed"
    },
    "tags": []
   },
   "outputs": [
    {
     "name": "stdout",
     "output_type": "stream",
     "text": [
      "Using Kaggle's public dataset BigQuery integration.\n"
     ]
    }
   ],
   "source": [
    "from google.cloud import bigquery\n",
    "\n",
    "# Create a \"Client\" object\n",
    "client = bigquery.Client()\n",
    "\n",
    "# Construct a reference to the \"chicago_crime\" dataset\n",
    "dataset_ref = client.dataset(\"chicago_crime\", project=\"bigquery-public-data\")\n",
    "\n",
    "# API request - fetch the dataset\n",
    "dataset = client.get_dataset(dataset_ref)"
   ]
  },
  {
   "cell_type": "markdown",
   "id": "dd6acdc4",
   "metadata": {
    "papermill": {
     "duration": 0.008571,
     "end_time": "2024-11-28T17:56:51.160260",
     "exception": false,
     "start_time": "2024-11-28T17:56:51.151689",
     "status": "completed"
    },
    "tags": []
   },
   "source": [
    "# Exercises\n",
    "\n",
    "### 1) Count tables in the dataset\n",
    "\n",
    "How many tables are in the Chicago Crime dataset?"
   ]
  },
  {
   "cell_type": "code",
   "execution_count": 3,
   "id": "12249b8b",
   "metadata": {
    "execution": {
     "iopub.execute_input": "2024-11-28T17:56:51.177404Z",
     "iopub.status.busy": "2024-11-28T17:56:51.176751Z",
     "iopub.status.idle": "2024-11-28T17:56:51.375781Z",
     "shell.execute_reply": "2024-11-28T17:56:51.374546Z"
    },
    "papermill": {
     "duration": 0.209251,
     "end_time": "2024-11-28T17:56:51.377997",
     "exception": false,
     "start_time": "2024-11-28T17:56:51.168746",
     "status": "completed"
    },
    "tags": []
   },
   "outputs": [
    {
     "name": "stdout",
     "output_type": "stream",
     "text": [
      "crime\n"
     ]
    }
   ],
   "source": [
    "tables = list(client.list_tables(dataset))\n",
    "for table in tables:\n",
    "    print(table.table_id)"
   ]
  },
  {
   "cell_type": "code",
   "execution_count": 4,
   "id": "ea5e2433",
   "metadata": {
    "execution": {
     "iopub.execute_input": "2024-11-28T17:56:51.389115Z",
     "iopub.status.busy": "2024-11-28T17:56:51.388715Z",
     "iopub.status.idle": "2024-11-28T17:56:51.584234Z",
     "shell.execute_reply": "2024-11-28T17:56:51.583079Z"
    },
    "papermill": {
     "duration": 0.203778,
     "end_time": "2024-11-28T17:56:51.586492",
     "exception": false,
     "start_time": "2024-11-28T17:56:51.382714",
     "status": "completed"
    },
    "tags": []
   },
   "outputs": [
    {
     "name": "stdout",
     "output_type": "stream",
     "text": [
      "crime\n"
     ]
    }
   ],
   "source": [
    "# Write the code you need here to figure out the answer\n",
    "tables = list(client.list_tables(dataset))\n",
    "for table in tables:\n",
    "    print(table.table_id)"
   ]
  },
  {
   "cell_type": "code",
   "execution_count": 5,
   "id": "1663abf8",
   "metadata": {
    "execution": {
     "iopub.execute_input": "2024-11-28T17:56:51.597979Z",
     "iopub.status.busy": "2024-11-28T17:56:51.597588Z",
     "iopub.status.idle": "2024-11-28T17:56:51.607064Z",
     "shell.execute_reply": "2024-11-28T17:56:51.605783Z"
    },
    "papermill": {
     "duration": 0.017478,
     "end_time": "2024-11-28T17:56:51.609049",
     "exception": false,
     "start_time": "2024-11-28T17:56:51.591571",
     "status": "completed"
    },
    "tags": []
   },
   "outputs": [
    {
     "data": {
      "application/javascript": [
       "parent.postMessage({\"jupyterEvent\": \"custom.exercise_interaction\", \"data\": {\"outcomeType\": 1, \"valueTowardsCompletion\": 0.3333333333333333, \"interactionType\": 1, \"questionType\": 1, \"questionId\": \"1_CountTables\", \"learnToolsVersion\": \"0.3.4\", \"failureMessage\": \"\", \"exceptionClass\": \"\", \"trace\": \"\"}}, \"*\")"
      ],
      "text/plain": [
       "<IPython.core.display.Javascript object>"
      ]
     },
     "metadata": {},
     "output_type": "display_data"
    },
    {
     "data": {
      "text/markdown": [
       "<span style=\"color:#33cc33\">Correct</span>"
      ],
      "text/plain": [
       "Correct"
      ]
     },
     "metadata": {},
     "output_type": "display_data"
    }
   ],
   "source": [
    "num_tables = 1  # Store the answer as num_tables and then run this cell\n",
    "\n",
    "# Check your answer\n",
    "q_1.check()"
   ]
  },
  {
   "cell_type": "markdown",
   "id": "c15de2aa",
   "metadata": {
    "papermill": {
     "duration": 0.004608,
     "end_time": "2024-11-28T17:56:51.618617",
     "exception": false,
     "start_time": "2024-11-28T17:56:51.614009",
     "status": "completed"
    },
    "tags": []
   },
   "source": [
    "For a hint or the solution, uncomment the appropriate line below."
   ]
  },
  {
   "cell_type": "code",
   "execution_count": 6,
   "id": "46340dc6",
   "metadata": {
    "execution": {
     "iopub.execute_input": "2024-11-28T17:56:51.629911Z",
     "iopub.status.busy": "2024-11-28T17:56:51.629541Z",
     "iopub.status.idle": "2024-11-28T17:56:51.633983Z",
     "shell.execute_reply": "2024-11-28T17:56:51.632892Z"
    },
    "papermill": {
     "duration": 0.012546,
     "end_time": "2024-11-28T17:56:51.635958",
     "exception": false,
     "start_time": "2024-11-28T17:56:51.623412",
     "status": "completed"
    },
    "tags": []
   },
   "outputs": [],
   "source": [
    "#q_1.hint()\n",
    "#q_1.solution()"
   ]
  },
  {
   "cell_type": "markdown",
   "id": "b43e2593",
   "metadata": {
    "papermill": {
     "duration": 0.004556,
     "end_time": "2024-11-28T17:56:51.645428",
     "exception": false,
     "start_time": "2024-11-28T17:56:51.640872",
     "status": "completed"
    },
    "tags": []
   },
   "source": [
    "### 2) Explore the table schema\n",
    "\n",
    "How many columns in the `crime` table have `TIMESTAMP` data?"
   ]
  },
  {
   "cell_type": "code",
   "execution_count": 7,
   "id": "af31cdc2",
   "metadata": {
    "execution": {
     "iopub.execute_input": "2024-11-28T17:56:51.657334Z",
     "iopub.status.busy": "2024-11-28T17:56:51.656337Z",
     "iopub.status.idle": "2024-11-28T17:56:51.865825Z",
     "shell.execute_reply": "2024-11-28T17:56:51.864692Z"
    },
    "papermill": {
     "duration": 0.218079,
     "end_time": "2024-11-28T17:56:51.868327",
     "exception": false,
     "start_time": "2024-11-28T17:56:51.650248",
     "status": "completed"
    },
    "tags": []
   },
   "outputs": [
    {
     "name": "stdout",
     "output_type": "stream",
     "text": [
      "[SchemaField('unique_key', 'INTEGER', 'REQUIRED', None, (), None), SchemaField('case_number', 'STRING', 'NULLABLE', None, (), None), SchemaField('date', 'TIMESTAMP', 'NULLABLE', None, (), None), SchemaField('block', 'STRING', 'NULLABLE', None, (), None), SchemaField('iucr', 'STRING', 'NULLABLE', None, (), None), SchemaField('primary_type', 'STRING', 'NULLABLE', None, (), None), SchemaField('description', 'STRING', 'NULLABLE', None, (), None), SchemaField('location_description', 'STRING', 'NULLABLE', None, (), None), SchemaField('arrest', 'BOOLEAN', 'NULLABLE', None, (), None), SchemaField('domestic', 'BOOLEAN', 'NULLABLE', None, (), None), SchemaField('beat', 'INTEGER', 'NULLABLE', None, (), None), SchemaField('district', 'INTEGER', 'NULLABLE', None, (), None), SchemaField('ward', 'INTEGER', 'NULLABLE', None, (), None), SchemaField('community_area', 'INTEGER', 'NULLABLE', None, (), None), SchemaField('fbi_code', 'STRING', 'NULLABLE', None, (), None), SchemaField('x_coordinate', 'FLOAT', 'NULLABLE', None, (), None), SchemaField('y_coordinate', 'FLOAT', 'NULLABLE', None, (), None), SchemaField('year', 'INTEGER', 'NULLABLE', None, (), None), SchemaField('updated_on', 'TIMESTAMP', 'NULLABLE', None, (), None), SchemaField('latitude', 'FLOAT', 'NULLABLE', None, (), None), SchemaField('longitude', 'FLOAT', 'NULLABLE', None, (), None), SchemaField('location', 'STRING', 'NULLABLE', None, (), None)]\n"
     ]
    }
   ],
   "source": [
    "# Write the code to figure out the answer\n",
    "table_ref = dataset_ref.table(\"crime\")\n",
    "\n",
    "#API request\n",
    "table = client.get_table(table_ref)\n",
    "\n",
    "#Print\n",
    "print(table.schema)"
   ]
  },
  {
   "cell_type": "code",
   "execution_count": 8,
   "id": "b530df6b",
   "metadata": {
    "execution": {
     "iopub.execute_input": "2024-11-28T17:56:51.880369Z",
     "iopub.status.busy": "2024-11-28T17:56:51.880021Z",
     "iopub.status.idle": "2024-11-28T17:56:52.525414Z",
     "shell.execute_reply": "2024-11-28T17:56:52.524348Z"
    },
    "papermill": {
     "duration": 0.654284,
     "end_time": "2024-11-28T17:56:52.527975",
     "exception": false,
     "start_time": "2024-11-28T17:56:51.873691",
     "status": "completed"
    },
    "tags": []
   },
   "outputs": [
    {
     "name": "stdout",
     "output_type": "stream",
     "text": [
      "Using Kaggle's public dataset BigQuery integration.\n"
     ]
    }
   ],
   "source": [
    "#num_timestamp_fields = 2 # Put your answer here\n",
    "from google.cloud import bigquery\n",
    "\n",
    "# Create a \"Client\" object\n",
    "client = bigquery.Client()\n",
    "\n",
    "# Construct a reference to the \"chicago_crime\" dataset\n",
    "dataset_ref = client.dataset(\"chicago_crime\", project=\"bigquery-public-data\")\n",
    "\n",
    "# API request - fetch the dataset\n",
    "dataset = client.get_dataset(dataset_ref)\n",
    "\n",
    "# Fetch the list of tables in the dataset\n",
    "tables = list(client.list_tables(dataset))\n",
    "\n",
    "# Initialize a counter for timestamp fields\n",
    "num_timestamp_fields = 0\n",
    "\n",
    "# Iterate over each table\n",
    "for table in tables:\n",
    "    # Get the table reference\n",
    "    table_ref = dataset.table(table.table_id)\n",
    "    table_obj = client.get_table(table_ref)  # Fetch the table object\n",
    "    # Count TIMESTAMP fields in the schema\n",
    "    num_timestamp_fields += sum(1 for field in table_obj.schema if field.field_type == \"TIMESTAMP\")\n",
    "\n",
    "# Check your answer\n",
    "#q_2.check()\n",
    "\n",
    "\n"
   ]
  },
  {
   "cell_type": "markdown",
   "id": "46fc23b3",
   "metadata": {
    "papermill": {
     "duration": 0.004917,
     "end_time": "2024-11-28T17:56:52.538250",
     "exception": false,
     "start_time": "2024-11-28T17:56:52.533333",
     "status": "completed"
    },
    "tags": []
   },
   "source": [
    "For a hint or the solution, uncomment the appropriate line below."
   ]
  },
  {
   "cell_type": "code",
   "execution_count": 9,
   "id": "3c9c3265",
   "metadata": {
    "execution": {
     "iopub.execute_input": "2024-11-28T17:56:52.550207Z",
     "iopub.status.busy": "2024-11-28T17:56:52.549818Z",
     "iopub.status.idle": "2024-11-28T17:56:52.555242Z",
     "shell.execute_reply": "2024-11-28T17:56:52.554089Z"
    },
    "papermill": {
     "duration": 0.014236,
     "end_time": "2024-11-28T17:56:52.557555",
     "exception": false,
     "start_time": "2024-11-28T17:56:52.543319",
     "status": "completed"
    },
    "tags": []
   },
   "outputs": [],
   "source": [
    "\n",
    "\n",
    "num_timestamp_fields = 2"
   ]
  },
  {
   "cell_type": "markdown",
   "id": "c9acd228",
   "metadata": {
    "papermill": {
     "duration": 0.00478,
     "end_time": "2024-11-28T17:56:52.567564",
     "exception": false,
     "start_time": "2024-11-28T17:56:52.562784",
     "status": "completed"
    },
    "tags": []
   },
   "source": [
    "**Create a Crime Map**"
   ]
  },
  {
   "cell_type": "code",
   "execution_count": 10,
   "id": "50bf231b",
   "metadata": {
    "execution": {
     "iopub.execute_input": "2024-11-28T17:56:52.579074Z",
     "iopub.status.busy": "2024-11-28T17:56:52.578681Z",
     "iopub.status.idle": "2024-11-28T17:56:52.584704Z",
     "shell.execute_reply": "2024-11-28T17:56:52.583503Z"
    },
    "papermill": {
     "duration": 0.014324,
     "end_time": "2024-11-28T17:56:52.586881",
     "exception": false,
     "start_time": "2024-11-28T17:56:52.572557",
     "status": "completed"
    },
    "tags": []
   },
   "outputs": [
    {
     "name": "stdout",
     "output_type": "stream",
     "text": [
      "['location', 'latitude', 'longitude']\n"
     ]
    }
   ],
   "source": [
    "fields_for_plotting = ['latitude', 'longitude']  # Put your answers here\n",
    "\n",
    "# Check your answer\n",
    "#q_3.check()\n",
    "\n",
    "# Scratch space for your code\n",
    "print(['location', 'latitude', 'longitude'])"
   ]
  },
  {
   "cell_type": "code",
   "execution_count": null,
   "id": "0cc91e6f",
   "metadata": {
    "papermill": {
     "duration": 0.005207,
     "end_time": "2024-11-28T17:56:52.597259",
     "exception": false,
     "start_time": "2024-11-28T17:56:52.592052",
     "status": "completed"
    },
    "tags": []
   },
   "outputs": [],
   "source": []
  },
  {
   "cell_type": "markdown",
   "id": "f958b139",
   "metadata": {
    "papermill": {
     "duration": 0.004831,
     "end_time": "2024-11-28T17:56:52.607246",
     "exception": false,
     "start_time": "2024-11-28T17:56:52.602415",
     "status": "completed"
    },
    "tags": []
   },
   "source": [
    "For a hint or the solution, uncomment the appropriate line below."
   ]
  },
  {
   "cell_type": "markdown",
   "id": "e7edcc21",
   "metadata": {
    "papermill": {
     "duration": 0.00481,
     "end_time": "2024-11-28T17:56:52.617069",
     "exception": false,
     "start_time": "2024-11-28T17:56:52.612259",
     "status": "completed"
    },
    "tags": []
   },
   "source": [
    "Thinking about the question above, there are a few columns that appear to have geographic data. Look at a few values (with the `list_rows()` command) to see if you can determine their relationship.  Two columns will still be hard to interpret. But it should be obvious how the `location` column relates to `latitude` and `longitude`."
   ]
  },
  {
   "cell_type": "markdown",
   "id": "c9ddeec4",
   "metadata": {
    "papermill": {
     "duration": 0.004788,
     "end_time": "2024-11-28T17:56:52.626956",
     "exception": false,
     "start_time": "2024-11-28T17:56:52.622168",
     "status": "completed"
    },
    "tags": []
   },
   "source": [
    "# Keep going\n",
    "2\n",
    "You've looked at the schema, but you haven't yet done anything exciting with the data itself. Things get more interesting when you get to the data, so keep going to **[write your first SQL query](https://www.kaggle.com/dansbecker/select-from-where).**"
   ]
  },
  {
   "cell_type": "markdown",
   "id": "3a350bc8",
   "metadata": {
    "papermill": {
     "duration": 0.004698,
     "end_time": "2024-11-28T17:56:52.636583",
     "exception": false,
     "start_time": "2024-11-28T17:56:52.631885",
     "status": "completed"
    },
    "tags": []
   },
   "source": [
    "---\n",
    "\n",
    "\n",
    "\n",
    "\n",
    "*Have questions or comments? Visit the [course discussion forum](https://www.kaggle.com/learn/intro-to-sql/discussion) to chat with other learners.*"
   ]
  }
 ],
 "metadata": {
  "kaggle": {
   "accelerator": "none",
   "dataSources": [
    {
     "datasetId": 22090,
     "sourceId": 28376,
     "sourceType": "datasetVersion"
    },
    {
     "datasetId": 6057,
     "sourceId": 285982,
     "sourceType": "datasetVersion"
    }
   ],
   "isGpuEnabled": false,
   "isInternetEnabled": false,
   "language": "python",
   "sourceType": "notebook"
  },
  "kernelspec": {
   "display_name": "Python 3",
   "language": "python",
   "name": "python3"
  },
  "language_info": {
   "codemirror_mode": {
    "name": "ipython",
    "version": 3
   },
   "file_extension": ".py",
   "mimetype": "text/x-python",
   "name": "python",
   "nbconvert_exporter": "python",
   "pygments_lexer": "ipython3",
   "version": "3.10.14"
  },
  "papermill": {
   "default_parameters": {},
   "duration": 10.756169,
   "end_time": "2024-11-28T17:56:53.363242",
   "environment_variables": {},
   "exception": null,
   "input_path": "__notebook__.ipynb",
   "output_path": "__notebook__.ipynb",
   "parameters": {},
   "start_time": "2024-11-28T17:56:42.607073",
   "version": "2.6.0"
  }
 },
 "nbformat": 4,
 "nbformat_minor": 5
}
